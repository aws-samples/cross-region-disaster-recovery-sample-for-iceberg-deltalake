{
	"metadata": {
		"kernelspec": {
			"name": "glue_pyspark",
			"display_name": "Glue PySpark",
			"language": "python"
		},
		"language_info": {
			"name": "Python_Glue_Session",
			"mimetype": "text/x-python",
			"codemirror_mode": {
				"name": "python",
				"version": 3
			},
			"pygments_lexer": "python3",
			"file_extension": ".py"
		}
	},
	"nbformat_minor": 4,
	"nbformat": 4,
	"cells": [
		{
			"cell_type": "markdown",
			"source": "####  Run this cell to set up and start your interactive session.\n",
			"metadata": {
				"editable": true,
				"trusted": true
			}
		},
		{
			"cell_type": "code",
			"source": "%session_id_prefix native-iceberg-sql-\n%glue_version 4.0\n%idle_timeout 60\n%%configure \n{\n  \"--conf\": \"spark.sql.extensions=org.apache.iceberg.spark.extensions.IcebergSparkSessionExtensions\",\n  \"--datalake-formats\": \"iceberg\",\n  \"--enable-continuous-cloudwatch-log\": \"true\",\n  \"--enable-continuous-log-filter\": \"false\"\n}",
			"metadata": {
				"trusted": true,
				"editable": true
			},
			"execution_count": 5,
			"outputs": [
				{
					"name": "stdout",
					"text": "Welcome to the Glue Interactive Sessions Kernel\nFor more information on available magic commands, please type %help in any new cell.\n\nPlease view our Getting Started page to access the most up-to-date information on the Interactive Sessions kernel: https://docs.aws.amazon.com/glue/latest/dg/interactive-sessions.html\nInstalled kernel version: 1.0.5 \nSetting session ID prefix to native-iceberg-sql-\nSetting Glue version to: 4.0\nCurrent idle_timeout is None minutes.\nidle_timeout has been set to 60 minutes.\nThe following configurations have been updated: {'--conf': 'spark.sql.extensions=org.apache.iceberg.spark.extensions.IcebergSparkSessionExtensions', '--datalake-formats': 'iceberg', '--enable-continuous-cloudwatch-log': 'true', '--enable-continuous-log-filter': 'false'}\n",
					"output_type": "stream"
				}
			]
		},
		{
			"cell_type": "code",
			"source": "\ncatalog_name = \"glue_catalog\"\nbucket_name = \"<bucket-name>\"\nbucket_prefix = \"\"\ndatabase_name = \"iceberg_dataframe\"\ntable_name = \"product\"\nwarehouse_path = f\"s3://{bucket_name}/{bucket_prefix}\"",
			"metadata": {
				"trusted": true,
				"tags": []
			},
			"execution_count": 1,
			"outputs": [
				{
					"name": "stdout",
					"text": "Trying to create a Glue session for the kernel.\nSession Type: glueetl\nIdle Timeout: 60\nSession ID: 93510a54-356d-425b-a25d-2a0509ba6aa5\nApplying the following default arguments:\n--glue_kernel_version 1.0.5\n--enable-glue-datacatalog true\n--conf spark.sql.extensions=org.apache.iceberg.spark.extensions.IcebergSparkSessionExtensions\n--datalake-formats iceberg\n--enable-continuous-cloudwatch-log true\n--enable-continuous-log-filter false\nWaiting for session 93510a54-356d-425b-a25d-2a0509ba6aa5 to get into ready status...\nSession 93510a54-356d-425b-a25d-2a0509ba6aa5 has been created.\n\n",
					"output_type": "stream"
				}
			]
		},
		{
			"cell_type": "code",
			"source": "import sys\nimport json \nfrom awsglue.transforms import *\nfrom awsglue.utils import getResolvedOptions\nfrom pyspark.context import SparkContext\nfrom awsglue.context import GlueContext\nfrom awsglue.job import Job\nfrom pyspark.sql import SparkSession\nfrom pyspark.sql.types import *\nfrom pyspark.sql.functions import *\nfrom datetime import datetime\n\nspark = SparkSession.builder \\\n    .config(f\"spark.sql.catalog.{catalog_name}\", \"org.apache.iceberg.spark.SparkCatalog\") \\\n    .config(f\"spark.sql.catalog.{catalog_name}.warehouse\", f\"{warehouse_path}\") \\\n    .config(f\"spark.sql.catalog.{catalog_name}.catalog-impl\", \"org.apache.iceberg.aws.glue.GlueCatalog\") \\\n    .config(f\"spark.sql.catalog.{catalog_name}.io-impl\", \"org.apache.iceberg.aws.s3.S3FileIO\") \\\n    .config(\"spark.sql.extensions\",\"org.apache.iceberg.spark.extensions.IcebergSparkSessionExtensions\") \\\n    .getOrCreate()\n     ",
			"metadata": {
				"trusted": true,
				"tags": []
			},
			"execution_count": 3,
			"outputs": [
				{
					"name": "stdout",
					"text": "\n",
					"output_type": "stream"
				}
			]
		},
		{
			"cell_type": "code",
			"source": "query = f\"\"\"\nDROP TABLE IF EXISTS {catalog_name}.{database_name}.{table_name}\n\"\"\"\nspark.sql(query)",
			"metadata": {
				"trusted": true,
				"tags": []
			},
			"execution_count": 4,
			"outputs": [
				{
					"name": "stdout",
					"text": "DataFrame[]\n",
					"output_type": "stream"
				}
			]
		},
		{
			"cell_type": "code",
			"source": "query = f\"\"\"\nCREATE DATABASE IF NOT EXISTS {catalog_name}.{database_name}\n\"\"\"\nspark.sql(query)\n",
			"metadata": {
				"trusted": true,
				"tags": []
			},
			"execution_count": 5,
			"outputs": [
				{
					"name": "stdout",
					"text": "DataFrame[]\n",
					"output_type": "stream"
				}
			]
		},
		{
			"cell_type": "code",
			"source": "# Define the schema of the raw customer table\ncustomer_schema = StructType(\n            [ StructField(\"c_customer_sk\",IntegerType(),True),\n              StructField(\"c_customer_id\",StringType(),True),\n              StructField(\"c_current_cdemo_sk\",IntegerType(),True),\n              StructField(\"c_current_hdemo_sk\",IntegerType(),True),\n              StructField(\"c_current_addr_sk\",IntegerType(),True),\n              StructField(\"c_first_shipto_date_sk\",IntegerType(),True),\n              StructField(\"c_first_sales_date_sk\",IntegerType(),True),\n              StructField(\"c_salutation\",StringType(),True),\n              StructField(\"c_first_name\",StringType(),True),\n              StructField(\"c_last_name\",StringType(),True),\n              StructField(\"c_preferred_cust_flag\",StringType(),True),\n              StructField(\"c_birth_day\",IntegerType(),True),\n              StructField(\"c_birth_month\",IntegerType(),True),\n              StructField(\"c_birth_year\",IntegerType(),True),\n              StructField(\"c_birth_country\", StringType(), True),\n              StructField(\"c_login\", StringType(), True),\n              StructField(\"c_email_address\", StringType(), True),\n              StructField(\"c_last_review_date_sk\", IntegerType(), True)\n              ]\n              )\n",
			"metadata": {
				"trusted": true,
				"tags": []
			},
			"execution_count": 6,
			"outputs": [
				{
					"name": "stdout",
					"text": "\n",
					"output_type": "stream"
				}
			]
		},
		{
			"cell_type": "code",
			"source": "df_customer = spark.read.schema(customer_schema).\\\n                format(\"csv\").options(header=True,delimiter=\"|\").\\\n                load(\"s3://redshift-downloads/TPC-DS/2.13/100GB/customer/\")\nprint(f'df_customer - rows: {df_customer.count()}, columns: {len(df_customer.columns)}')",
			"metadata": {
				"trusted": true,
				"tags": []
			},
			"execution_count": 7,
			"outputs": [
				{
					"name": "stdout",
					"text": "df_customer - rows: 1999999, columns: 18\n",
					"output_type": "stream"
				}
			]
		},
		{
			"cell_type": "code",
			"source": "f\"{warehouse_path}/{database_name}/{table_name}\"",
			"metadata": {
				"trusted": true,
				"tags": []
			},
			"execution_count": 11,
			"outputs": [
				{
					"name": "stdout",
					"text": "'s3://iceberg-poc-primarybuc-061588638285//iceberg_dataframe/product'\n",
					"output_type": "stream"
				}
			]
		},
		{
			"cell_type": "code",
			"source": "df_customer.writeTo(f\"{catalog_name}.{database_name}.{table_name}\") \\\n    .tableProperty(\"format-version\", \"2\") \\\n    .tableProperty(\"location\", f\"{warehouse_path}{database_name}/{table_name}\") \\\n    .createOrReplace()\n     ",
			"metadata": {
				"trusted": true,
				"tags": []
			},
			"execution_count": 12,
			"outputs": [
				{
					"name": "stdout",
					"text": "\n",
					"output_type": "stream"
				}
			]
		},
		{
			"cell_type": "code",
			"source": "spark.sql(f\"\"\"\nSELECT * FROM {catalog_name}.{database_name}.{table_name} LIMIT 5\n\"\"\").show()",
			"metadata": {
				"trusted": true,
				"tags": []
			},
			"execution_count": 14,
			"outputs": [
				{
					"name": "stdout",
					"text": "+-------------+----------------+------------------+------------------+-----------------+----------------------+---------------------+------------+------------+-----------+---------------------+-----------+-------------+------------+---------------+-------+--------------------+---------------------+\n|c_customer_sk|   c_customer_id|c_current_cdemo_sk|c_current_hdemo_sk|c_current_addr_sk|c_first_shipto_date_sk|c_first_sales_date_sk|c_salutation|c_first_name|c_last_name|c_preferred_cust_flag|c_birth_day|c_birth_month|c_birth_year|c_birth_country|c_login|     c_email_address|c_last_review_date_sk|\n+-------------+----------------+------------------+------------------+-----------------+----------------------+---------------------+------------+------------+-----------+---------------------+-----------+-------------+------------+---------------+-------+--------------------+---------------------+\n|            2|AAAAAAAACAAAAAAA|            819667|              1461|           681655|               2452318|              2452288|         Dr.|         Amy|      Moses|                    Y|          9|            4|        1966|           TOGO|   null|Amy.Moses@Ovk9KjH...|              2452318|\n|            3|AAAAAAAADAAAAAAA|           1473522|              6247|           748572|               2449130|              2449100|        Miss|     Latisha|   Hamilton|                    N|         18|            9|        1979|           NIUE|   null|Latisha.Hamilton@...|              2452313|\n|            4|AAAAAAAAEAAAAAAA|           1703214|              3986|           689558|               2450030|              2450000|         Dr.|     Michael|      White|                    N|          7|            6|        1983|         MEXICO|   null| Michael.White@i.org|              2452361|\n|            5|AAAAAAAAFAAAAAAA|            953372|              4470|           336368|               2449438|              2449408|         Sir|      Robert|      Moran|                    N|          8|            5|        1956|           FIJI|   null| Robert.Moran@Hh.edu|              2452469|\n|            6|AAAAAAAAGAAAAAAA|            213219|              6374|           327082|               2451883|              2451853|         Ms.|    Brunilda|      Sharp|                    N|          4|           12|        1925|       SURINAME|   null|Brunilda.Sharp@T3...|              2452430|\n+-------------+----------------+------------------+------------------+-----------------+----------------------+---------------------+------------+------------+-----------+---------------------+-----------+-------------+------------+---------------+-------+--------------------+---------------------+\n",
					"output_type": "stream"
				}
			]
		},
		{
			"cell_type": "code",
			"source": "\n\nspark.table(f\"{catalog_name}.{database_name}.{table_name}\") \\\n    .show()\n     \n\n",
			"metadata": {
				"trusted": true,
				"tags": []
			},
			"execution_count": 15,
			"outputs": [
				{
					"name": "stdout",
					"text": "+-------------+----------------+------------------+------------------+-----------------+----------------------+---------------------+------------+------------+-----------+---------------------+-----------+-------------+------------+------------------+-------+--------------------+---------------------+\n|c_customer_sk|   c_customer_id|c_current_cdemo_sk|c_current_hdemo_sk|c_current_addr_sk|c_first_shipto_date_sk|c_first_sales_date_sk|c_salutation|c_first_name|c_last_name|c_preferred_cust_flag|c_birth_day|c_birth_month|c_birth_year|   c_birth_country|c_login|     c_email_address|c_last_review_date_sk|\n+-------------+----------------+------------------+------------------+-----------------+----------------------+---------------------+------------+------------+-----------+---------------------+-----------+-------------+------------+------------------+-------+--------------------+---------------------+\n|            2|AAAAAAAACAAAAAAA|            819667|              1461|           681655|               2452318|              2452288|         Dr.|         Amy|      Moses|                    Y|          9|            4|        1966|              TOGO|   null|Amy.Moses@Ovk9KjH...|              2452318|\n|            3|AAAAAAAADAAAAAAA|           1473522|              6247|           748572|               2449130|              2449100|        Miss|     Latisha|   Hamilton|                    N|         18|            9|        1979|              NIUE|   null|Latisha.Hamilton@...|              2452313|\n|            4|AAAAAAAAEAAAAAAA|           1703214|              3986|           689558|               2450030|              2450000|         Dr.|     Michael|      White|                    N|          7|            6|        1983|            MEXICO|   null| Michael.White@i.org|              2452361|\n|            5|AAAAAAAAFAAAAAAA|            953372|              4470|           336368|               2449438|              2449408|         Sir|      Robert|      Moran|                    N|          8|            5|        1956|              FIJI|   null| Robert.Moran@Hh.edu|              2452469|\n|            6|AAAAAAAAGAAAAAAA|            213219|              6374|           327082|               2451883|              2451853|         Ms.|    Brunilda|      Sharp|                    N|          4|           12|        1925|          SURINAME|   null|Brunilda.Sharp@T3...|              2452430|\n|            7|AAAAAAAAHAAAAAAA|             68377|              3219|           944814|               2451438|              2451408|         Ms.|       Fonda|      Wiles|                    Y|         24|            4|        1985|            GAMBIA|   null|Fonda.Wiles@S9Kny...|              2452360|\n|            8|AAAAAAAAIAAAAAAA|           1215897|              2471|           316598|               2449406|              2449376|         Sir|       Ollie|    Shipman|                    N|         26|           12|        1938|KOREA, REPUBLIC OF|   null|Ollie.Shipman@be.org|              2452334|\n|            9|AAAAAAAAJAAAAAAA|           1168667|              1404|           599388|               2452275|              2452245|         Sir|        Karl|    Gilbert|                    N|         26|           10|        1966|        MONTSERRAT|   null|Karl.Gilbert@Crg5...|              2452454|\n|           10|AAAAAAAAKAAAAAAA|           1207553|              5143|           369580|               2451353|              2451323|         Ms.|      Albert|    Brunson|                    N|         15|           10|        1973|            JORDAN|   null|Albert.Brunson@62...|              2452641|\n|           11|AAAAAAAALAAAAAAA|           1114415|              6807|           947999|               2452288|              2452258|         Ms.|       Betty|   Williams|                    N|         18|           12|        1963|      BURKINA FASO|   null|Betty.Williams@xR...|              2452398|\n|           12|AAAAAAAAMAAAAAAA|            502141|              6577|           547366|               2451039|              2451009|         Ms.|    Margaret|     Farias|                    N|          2|            6|        1956|      TURKMENISTAN|   null|Margaret.Farias@c...|              2452634|\n|           13|AAAAAAAANAAAAAAA|           1128748|              2777|           664006|               2449658|              2449628|        Mrs.|   Rosalinda|     Grimes|                    N|          1|            3|        1970|           UKRAINE|   null|Rosalinda.Grimes@...|              2452616|\n|           14|AAAAAAAAOAAAAAAA|            929344|               892|           656440|               2450318|              2450288|         Mr.|        Jack|     Wilcox|                    N|         30|            3|        1937|          SLOVENIA|   null|Jack.Wilcox@Y3Etq...|              2452641|\n|           15|AAAAAAAAPAAAAAAA|              null|               134|           480469|                  null|              2449010|         Ms.|       Tonya|       null|                 null|       null|           12|        1969|              null|   null|                null|              2452376|\n|           16|AAAAAAAAABAAAAAA|           1196373|              3014|           829302|               2451346|              2451316|         Dr.|      Margie|   Browning|                    N|         24|           12|        1933|       PHILIPPINES|   null|Margie.Browning@L...|              2452573|\n|           17|AAAAAAAABBAAAAAA|            707524|              3876|           552228|               2451068|              2451038|         Dr.|         Lee|    Stovall|                    N|         23|           12|        1972|       PHILIPPINES|   null|Lee.Stovall@fqKC8...|              2452454|\n|           18|AAAAAAAACBAAAAAA|           1361151|              6580|           168456|               2450041|              2450011|         Sir|        Brad|      Lynch|                    Y|          1|            9|        1950|           URUGUAY|   null|Brad.Lynch@nAbai.edu|              2452549|\n|           19|AAAAAAAADBAAAAAA|           1161742|              4238|           945581|               2449580|              2449550|         Dr.|       Andre|      Moore|                    N|         20|           10|        1978|         NICARAGUA|   null|Andre.Moore@cTZLG...|              2452576|\n|           20|AAAAAAAAEBAAAAAA|           1185612|                89|           688966|               2450965|              2450935|         Mr.|     Stanton|     Dallas|                    Y|         17|            5|        1976|       SWITZERLAND|   null|Stanton.Dallas@DB...|              2452334|\n|           21|AAAAAAAAFBAAAAAA|            442697|              6538|           575979|               2451827|              2451797|        Miss|       Naomi|    Barnett|                    N|         18|            5|        1956|           BAHAMAS|   null|Naomi.Barnett@2T3...|              2452433|\n+-------------+----------------+------------------+------------------+-----------------+----------------------+---------------------+------------+------------+-----------+---------------------+-----------+-------------+------------+------------------+-------+--------------------+---------------------+\nonly showing top 20 rows\n",
					"output_type": "stream"
				}
			]
		},
		{
			"cell_type": "code",
			"source": "\nspark.table(f\"{catalog_name}.{database_name}.{table_name}.history\") \\\n    .show()\n     \n    \n    ",
			"metadata": {
				"trusted": true,
				"tags": []
			},
			"execution_count": 16,
			"outputs": [
				{
					"name": "stdout",
					"text": "+--------------------+-------------------+---------+-------------------+\n|     made_current_at|        snapshot_id|parent_id|is_current_ancestor|\n+--------------------+-------------------+---------+-------------------+\n|2024-09-19 14:38:...|1437657406398650969|     null|               true|\n+--------------------+-------------------+---------+-------------------+\n",
					"output_type": "stream"
				}
			]
		},
		{
			"cell_type": "code",
			"source": "\ndf_customer_100B = spark.read.schema(customer_schema).\\\n                format(\"csv\").options(header=True,delimiter=\"|\").\\\n                load(\"s3://redshift-downloads/TPC-DS/1TB/customer/\")",
			"metadata": {
				"trusted": true,
				"tags": []
			},
			"execution_count": 17,
			"outputs": [
				{
					"name": "stdout",
					"text": "\n",
					"output_type": "stream"
				}
			]
		},
		{
			"cell_type": "code",
			"source": "df_customer_100B.show()",
			"metadata": {
				"trusted": true,
				"tags": [],
				"collapsed": true,
				"jupyter": {
					"outputs_hidden": true
				}
			},
			"execution_count": 18,
			"outputs": [
				{
					"name": "stdout",
					"text": "+-------------+----------------+------------------+------------------+-----------------+----------------------+---------------------+------------+------------+-----------+---------------------+-----------+-------------+------------+------------------+-------+--------------------+---------------------+\n|c_customer_sk|   c_customer_id|c_current_cdemo_sk|c_current_hdemo_sk|c_current_addr_sk|c_first_shipto_date_sk|c_first_sales_date_sk|c_salutation|c_first_name|c_last_name|c_preferred_cust_flag|c_birth_day|c_birth_month|c_birth_year|   c_birth_country|c_login|     c_email_address|c_last_review_date_sk|\n+-------------+----------------+------------------+------------------+-----------------+----------------------+---------------------+------------+------------+-----------+---------------------+-----------+-------------+------------+------------------+-------+--------------------+---------------------+\n|            2|AAAAAAAACAAAAAAA|            819667|              1461|          3681655|               2452318|              2452288|         Dr.|         Amy|      Moses|                    Y|          9|            4|        1966|              TOGO|   null|Amy.Moses@Ovk9KjH...|              2452318|\n|            3|AAAAAAAADAAAAAAA|           1473522|              6247|          4748572|               2449130|              2449100|        Miss|     Latisha|   Hamilton|                    N|         18|            9|        1979|              NIUE|   null|Latisha.Hamilton@...|              2452313|\n|            4|AAAAAAAAEAAAAAAA|           1703214|              3986|          5689558|               2450030|              2450000|         Dr.|     Michael|      White|                    N|          7|            6|        1983|            MEXICO|   null| Michael.White@i.org|              2452361|\n|            5|AAAAAAAAFAAAAAAA|            953372|              4470|          1336368|               2449438|              2449408|         Sir|      Robert|      Moran|                    N|          8|            5|        1956|              FIJI|   null| Robert.Moran@Hh.edu|              2452469|\n|            6|AAAAAAAAGAAAAAAA|            213219|              6374|           327082|               2451883|              2451853|         Ms.|    Brunilda|      Sharp|                    N|          4|           12|        1925|          SURINAME|   null|Brunilda.Sharp@T3...|              2452430|\n|            7|AAAAAAAAHAAAAAAA|             68377|              3219|          4944814|               2451438|              2451408|         Ms.|       Fonda|      Wiles|                    Y|         24|            4|        1985|            GAMBIA|   null|Fonda.Wiles@S9Kny...|              2452360|\n|            8|AAAAAAAAIAAAAAAA|           1215897|              2471|           316598|               2449406|              2449376|         Sir|       Ollie|    Shipman|                    N|         26|           12|        1938|KOREA, REPUBLIC OF|   null|Ollie.Shipman@be.org|              2452334|\n|            9|AAAAAAAAJAAAAAAA|           1168667|              1404|          5599388|               2452275|              2452245|         Sir|        Karl|    Gilbert|                    N|         26|           10|        1966|        MONTSERRAT|   null|Karl.Gilbert@Crg5...|              2452454|\n|           10|AAAAAAAAKAAAAAAA|           1207553|              5143|           369580|               2451353|              2451323|         Ms.|      Albert|    Brunson|                    N|         15|           10|        1973|            JORDAN|   null|Albert.Brunson@62...|              2452641|\n|           11|AAAAAAAALAAAAAAA|           1114415|              6807|          3947999|               2452288|              2452258|         Ms.|       Betty|   Williams|                    N|         18|           12|        1963|      BURKINA FASO|   null|Betty.Williams@xR...|              2452398|\n|           12|AAAAAAAAMAAAAAAA|            502141|              6577|          5547366|               2451039|              2451009|         Ms.|    Margaret|     Farias|                    N|          2|            6|        1956|      TURKMENISTAN|   null|Margaret.Farias@c...|              2452634|\n|           13|AAAAAAAANAAAAAAA|           1128748|              2777|          2664006|               2449658|              2449628|        Mrs.|   Rosalinda|     Grimes|                    N|          1|            3|        1970|           UKRAINE|   null|Rosalinda.Grimes@...|              2452616|\n|           14|AAAAAAAAOAAAAAAA|            929344|               892|          3656440|               2450318|              2450288|         Mr.|        Jack|     Wilcox|                    N|         30|            3|        1937|          SLOVENIA|   null|Jack.Wilcox@Y3Etq...|              2452641|\n|           15|AAAAAAAAPAAAAAAA|              null|               134|          3480469|                  null|              2449010|         Ms.|       Tonya|       null|                 null|       null|           12|        1969|              null|   null|                null|              2452376|\n|           16|AAAAAAAAABAAAAAA|           1196373|              3014|          4829302|               2451346|              2451316|         Dr.|      Margie|   Browning|                    N|         24|           12|        1933|       PHILIPPINES|   null|Margie.Browning@L...|              2452573|\n|           17|AAAAAAAABBAAAAAA|            707524|              3876|          2552228|               2451068|              2451038|         Dr.|         Lee|    Stovall|                    N|         23|           12|        1972|       PHILIPPINES|   null|Lee.Stovall@fqKC8...|              2452454|\n|           18|AAAAAAAACBAAAAAA|           1361151|              6580|          1168456|               2450041|              2450011|         Sir|        Brad|      Lynch|                    Y|          1|            9|        1950|           URUGUAY|   null|Brad.Lynch@nAbai.edu|              2452549|\n|           19|AAAAAAAADBAAAAAA|           1161742|              4238|           945581|               2449580|              2449550|         Dr.|       Andre|      Moore|                    N|         20|           10|        1978|         NICARAGUA|   null|Andre.Moore@cTZLG...|              2452576|\n|           20|AAAAAAAAEBAAAAAA|           1185612|                89|          2688966|               2450965|              2450935|         Mr.|     Stanton|     Dallas|                    Y|         17|            5|        1976|       SWITZERLAND|   null|Stanton.Dallas@DB...|              2452334|\n|           21|AAAAAAAAFBAAAAAA|            442697|              6538|          2575979|               2451827|              2451797|        Miss|       Naomi|    Barnett|                    N|         18|            5|        1956|           BAHAMAS|   null|Naomi.Barnett@2T3...|              2452433|\n+-------------+----------------+------------------+------------------+-----------------+----------------------+---------------------+------------+------------+-----------+---------------------+-----------+-------------+------------+------------------+-------+--------------------+---------------------+\nonly showing top 20 rows\n",
					"output_type": "stream"
				}
			]
		},
		{
			"cell_type": "code",
			"source": "df_customer_100B.writeTo(f\"{catalog_name}.{database_name}.{table_name}\").append()",
			"metadata": {
				"trusted": true,
				"tags": []
			},
			"execution_count": 19,
			"outputs": [
				{
					"name": "stdout",
					"text": "\n",
					"output_type": "stream"
				}
			]
		},
		{
			"cell_type": "code",
			"source": "spark.table(f\"{catalog_name}.{database_name}.{table_name}.history\") \\\n    .show()\n     ",
			"metadata": {},
			"execution_count": null,
			"outputs": []
		},
		{
			"cell_type": "code",
			"source": "update_Df = df_customer.filter(df_customer.c_birth_country=='UNITED STATES')\nupdate_Df = update_Df.withColumn(\"c_birth_country\",lit(\"US\"))\nupdate_Df.select(['c_customer_id']).distinct().count()",
			"metadata": {
				"trusted": true,
				"tags": []
			},
			"execution_count": 22,
			"outputs": [
				{
					"name": "stdout",
					"text": "9206\n",
					"output_type": "stream"
				}
			]
		},
		{
			"cell_type": "code",
			"source": "update_Df.writeTo(f\"{catalog_name}.{database_name}.{table_name}\").append()",
			"metadata": {
				"trusted": true,
				"tags": []
			},
			"execution_count": 48,
			"outputs": [
				{
					"name": "stdout",
					"text": "\n",
					"output_type": "stream"
				}
			]
		},
		{
			"cell_type": "code",
			"source": "spark.table(f\"{catalog_name}.{database_name}.{table_name}.history\") \\\n    .show()",
			"metadata": {
				"trusted": true,
				"tags": []
			},
			"execution_count": 46,
			"outputs": [
				{
					"name": "stdout",
					"text": "+--------------------+-------------------+-------------------+-------------------+\n|     made_current_at|        snapshot_id|          parent_id|is_current_ancestor|\n+--------------------+-------------------+-------------------+-------------------+\n|2024-09-19 14:38:...|1437657406398650969|               null|               true|\n|2024-09-19 14:41:...|5098578219220757586|1437657406398650969|               true|\n|2024-09-19 14:43:...|7724982400463503082|5098578219220757586|               true|\n|2024-09-19 14:56:...|4149979908348128478|7724982400463503082|               true|\n|2024-09-19 15:03:...|2039670241441472078|4149979908348128478|               true|\n+--------------------+-------------------+-------------------+-------------------+\n",
					"output_type": "stream"
				}
			]
		},
		{
			"cell_type": "code",
			"source": "### Run optimize or vaccum operation from athena ####",
			"metadata": {
				"trusted": true,
				"tags": []
			},
			"execution_count": 40,
			"outputs": [
				{
					"name": "stdout",
					"text": "",
					"output_type": "stream"
				}
			]
		}
	]
}
